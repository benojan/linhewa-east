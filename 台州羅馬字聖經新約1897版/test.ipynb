{
 "cells": [
  {
   "cell_type": "code",
   "execution_count": 7,
   "metadata": {},
   "outputs": [],
   "source": [
    "from tool import *\n",
    "import re\n",
    "from collections import Counter\n",
    "import pandas as pd"
   ]
  },
  {
   "cell_type": "code",
   "execution_count": 9,
   "metadata": {},
   "outputs": [],
   "source": [
    "books = load_trans_books(\n",
    "    \"漢字對照/1、馬太傳福音書.md\",\n",
    "    \"漢字對照/2、馬可傳福音書.md\",\n",
    "    \"漢字對照/3、路加傳福音書.md\",\n",
    "    \"漢字對照/4、約翰傳福音書.md\",\n",
    "    \"漢字對照/5、使徒行傳.md\",\n",
    "    \"漢字對照/6、羅馬書信.md\",\n",
    "    \"漢字對照/7、哥林多書信 1.md\",\n",
    "    \"漢字對照/8、哥林多書信 2.md\",\n",
    "    \"漢字對照/9、加拉太書信.md\",\n",
    "    \"漢字對照/10、以弗所書信.md\",\n",
    "    \"漢字對照/11、腓立比書信.md\",\n",
    "    \"漢字對照/12、歌羅西書信.md\",\n",
    "    \"漢字對照/13、帖撒羅尼迦書信 1.md\",\n",
    "    \"漢字對照/14、帖撒羅尼迦書信 2.md\",\n",
    "    \"漢字對照/15、提摩太書信 1.md\",\n",
    ")"
   ]
  },
  {
   "cell_type": "code",
   "execution_count": 10,
   "metadata": {},
   "outputs": [],
   "source": [
    "fenci = books.fenci()\n",
    "fenzi = books.fenci(zi=True)"
   ]
  },
  {
   "cell_type": "code",
   "execution_count": 11,
   "metadata": {},
   "outputs": [],
   "source": [
    "# 保存 分词 和 分字\n",
    "pd.DataFrame({\n",
    "    \"lat\": [key[0] for key in fenci.keys()],\n",
    "    \"han\": [key[1] for key in fenci.keys()],\n",
    "    \"count\": [value for value in fenci.values()]\n",
    "}).sort_values('count', ascending=False).to_csv('_fenci.csv')\n",
    "\n",
    "pd.DataFrame({\n",
    "    \"lat\": [key[0] for key in fenzi.keys()],\n",
    "    \"han\": [key[1] for key in fenzi.keys()],\n",
    "    \"count\": [value for value in fenzi.values()]\n",
    "}).sort_values('count', ascending=False).to_csv('_fenzi.csv')"
   ]
  },
  {
   "cell_type": "code",
   "execution_count": null,
   "metadata": {},
   "outputs": [],
   "source": [
    "books.find_relative_ci(*[s.strip() for s in \"\"\"\n",
    "                         Di-mô-t'a, 提摩太\n",
    "                         \"\"\".split(\",\")])"
   ]
  },
  {
   "cell_type": "code",
   "execution_count": 5,
   "metadata": {},
   "outputs": [
    {
     "name": "stdout",
     "output_type": "stream",
     "text": [
      "已完成，请查看 漢字對照/15、提摩太書信 1.md\n"
     ]
    }
   ],
   "source": [
    "generate_trans_file(\"原文/15、提摩太書信 1.md\", \"漢字對照/15、提摩太書信 1.md\", fenci)"
   ]
  },
  {
   "cell_type": "code",
   "execution_count": 28,
   "metadata": {},
   "outputs": [],
   "source": [
    "validate_origin_punc(\"原文/22、彼得書信 2.md\")"
   ]
  },
  {
   "cell_type": "markdown",
   "metadata": {},
   "source": []
  }
 ],
 "metadata": {
  "kernelspec": {
   "display_name": "Python 3",
   "language": "python",
   "name": "python3"
  },
  "language_info": {
   "codemirror_mode": {
    "name": "ipython",
    "version": 3
   },
   "file_extension": ".py",
   "mimetype": "text/x-python",
   "name": "python",
   "nbconvert_exporter": "python",
   "pygments_lexer": "ipython3",
   "version": "3.12.2"
  }
 },
 "nbformat": 4,
 "nbformat_minor": 2
}
